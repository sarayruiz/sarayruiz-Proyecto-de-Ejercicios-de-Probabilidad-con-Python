{
 "cells": [
  {
   "cell_type": "markdown",
   "id": "a41f3622",
   "metadata": {},
   "source": [
    "# Ejercicios de probabilidad"
   ]
  },
  {
   "cell_type": "code",
   "execution_count": 43,
   "id": "a327a73d690229d3",
   "metadata": {},
   "outputs": [],
   "source": [
    "import random\n",
    "import numpy as np"
   ]
  },
  {
   "cell_type": "markdown",
   "id": "a6bdbd89",
   "metadata": {},
   "source": [
    "## Ejercicio 1 \n",
    "\n",
    "Dos dados se lanzan una vez y se observa el total obtenido. Usa una simulación para encontrar la probabilidad estimada de que la puntuación sea mayor a 7 o un número par. Una simulación es una repetición del mismo experimento multiples veces para observar su comportamiento:\n",
    "\n",
    "- Ejecuta el experimento 1000 veces (lanza 2 dados 1000 veces, y suma el número de ambos dados).\n",
    "- Lleva ua cuenta de los números y las veces que la suma fue mayor a 7 o un número par.\n",
    "- Divide el número del paso 2 entre el número de iteraciones(1000).\n",
    "- Escribe tus observaciones o conclusiones"
   ]
  },
  {
   "cell_type": "code",
   "execution_count": null,
   "id": "8939d892",
   "metadata": {},
   "outputs": [
    {
     "data": {
      "text/plain": [
       "'Han salido 654 veces o un numero mayor que 7 o numeros pares, lo que nos deja un 65.4% de probabilidad'"
      ]
     },
     "execution_count": 44,
     "metadata": {},
     "output_type": "execute_result"
    }
   ],
   "source": [
    "die_win = 0\n",
    "for i in range (1000):\n",
    "    suma_die = 0\n",
    "    die_one = random.randint(1,6)\n",
    "    die_two = random.randint(1,6)\n",
    "    suma_die = die_one + die_two\n",
    "    if (suma_die > 7) or (suma_die % 2 == 0):\n",
    "        die_win += 1\n",
    "        \n",
    "probabilidad = die_win/1000\n",
    "f\"Han salido {die_win} veces o un numero mayor que 7 o numeros pares, lo que nos deja un {probabilidad*100}% de probabilidad\""
   ]
  },
  {
   "cell_type": "code",
   "execution_count": 45,
   "id": "ad36793a",
   "metadata": {},
   "outputs": [
    {
     "data": {
      "text/plain": [
       "'La probabilidad de obtener un número par o mayor que 7 es:67.0: %'"
      ]
     },
     "execution_count": 45,
     "metadata": {},
     "output_type": "execute_result"
    }
   ],
   "source": [
    "def roll_the_dice(simulacion=1000):\n",
    "    count = 0\n",
    "    \n",
    "    for i in range(simulacion):\n",
    "        die_one = random.randint(1,6)\n",
    "        die_two = random.randint(1,6)\n",
    "        score = die_one + die_two \n",
    "\n",
    "        if (score % 2 == 0) or (score > 7):\n",
    "            count +=1\n",
    "\n",
    "    probabilidad = count / simulacion\n",
    "    return probabilidad\n",
    "\n",
    "f'La probabilidad de obtener un número par o mayor que 7 es:{np.round(roll_the_dice()*100, 2)}: %'\n"
   ]
  },
  {
   "cell_type": "markdown",
   "id": "55732bca",
   "metadata": {},
   "source": [
    "## Ejercicio 2\n",
    "\n",
    "Una caja contiene 10 bolas blancas, 20 bolas rojas y 30 bolas verdes. Si tomamos 5 bolas de la caja reemplazándolas (tomando una bola, anotando el color y luego regresandola a la caja). Queremos saber la probabilidad de:\n",
    "\n",
    "1. Tomar 3 blancas y 2 rojas.\n",
    "2. Toas todas del mismo color.\n",
    "\n",
    "- Ejecuta el experimento 1000 veces y calcula las probabilidades que mencionadas.\n",
    "- Escribe tus observaciones o conclusiones"
   ]
  },
  {
   "cell_type": "code",
   "execution_count": 46,
   "id": "23244d20",
   "metadata": {},
   "outputs": [],
   "source": [
    "ball_box = {}"
   ]
  },
  {
   "cell_type": "code",
   "execution_count": 54,
   "id": "3558ebfcce636f98",
   "metadata": {},
   "outputs": [],
   "source": [
    "ball_box = {i: \"White\" if i < 10 else \"Red\" if i < 30 else \"Green\" for i in range(60)}"
   ]
  },
  {
   "cell_type": "code",
   "execution_count": 48,
   "id": "614230a4546d75d4",
   "metadata": {},
   "outputs": [
    {
     "data": {
      "text/plain": [
       "{0: 'White',\n",
       " 1: 'White',\n",
       " 2: 'White',\n",
       " 3: 'White',\n",
       " 4: 'White',\n",
       " 5: 'White',\n",
       " 6: 'White',\n",
       " 7: 'White',\n",
       " 8: 'White',\n",
       " 9: 'White',\n",
       " 10: 'Red',\n",
       " 11: 'Red',\n",
       " 12: 'Red',\n",
       " 13: 'Red',\n",
       " 14: 'Red',\n",
       " 15: 'Red',\n",
       " 16: 'Red',\n",
       " 17: 'Red',\n",
       " 18: 'Red',\n",
       " 19: 'Red',\n",
       " 20: 'Red',\n",
       " 21: 'Red',\n",
       " 22: 'Red',\n",
       " 23: 'Red',\n",
       " 24: 'Red',\n",
       " 25: 'Red',\n",
       " 26: 'Red',\n",
       " 27: 'Red',\n",
       " 28: 'Red',\n",
       " 29: 'Red',\n",
       " 30: 'Green',\n",
       " 31: 'Green',\n",
       " 32: 'Green',\n",
       " 33: 'Green',\n",
       " 34: 'Green',\n",
       " 35: 'Green',\n",
       " 36: 'Green',\n",
       " 37: 'Green',\n",
       " 38: 'Green',\n",
       " 39: 'Green',\n",
       " 40: 'Green',\n",
       " 41: 'Green',\n",
       " 42: 'Green',\n",
       " 43: 'Green',\n",
       " 44: 'Green',\n",
       " 45: 'Green',\n",
       " 46: 'Green',\n",
       " 47: 'Green',\n",
       " 48: 'Green',\n",
       " 49: 'Green',\n",
       " 50: 'Green',\n",
       " 51: 'Green',\n",
       " 52: 'Green',\n",
       " 53: 'Green',\n",
       " 54: 'Green',\n",
       " 55: 'Green',\n",
       " 56: 'Green',\n",
       " 57: 'Green',\n",
       " 58: 'Green',\n",
       " 59: 'Green'}"
      ]
     },
     "execution_count": 48,
     "metadata": {},
     "output_type": "execute_result"
    }
   ],
   "source": [
    "# Crea las cajas con las bolas\n",
    "for i in range(60):\n",
    "    if i < 10:\n",
    "        ball_box[i] = \"White\"\n",
    "    elif (i > 9) and (i < 30):\n",
    "        ball_box[i] = \"Red\"\n",
    "    else:\n",
    "        ball_box[i] = \"Green\"\n",
    "\n",
    "ball_box"
   ]
  },
  {
   "cell_type": "code",
   "execution_count": 49,
   "id": "5e1198624a36edc1",
   "metadata": {},
   "outputs": [
    {
     "data": {
      "text/plain": [
       "'La probabilidad de tres blancas y dos rojas es: 1.1%'"
      ]
     },
     "execution_count": 49,
     "metadata": {},
     "output_type": "execute_result"
    }
   ],
   "source": [
    "def coge_bola(simulacion = 1000):\n",
    "    blanca_tres_rojo_dos = 0\n",
    "    colores_cinco = 0\n",
    "\n",
    "    for i in range(simulacion):\n",
    "        color = []       \n",
    "        for i in range(5):\n",
    "            color.append(ball_box[np.random.randint(0, 59)])\n",
    "\n",
    "        color = np.array(color)\n",
    "        \n",
    "        bola_blanca = sum(color == \"White\")\n",
    "        bola_roja = sum(color == \"Red\")\n",
    "        bola_verde = sum(color == \"Green\")\n",
    "\n",
    "       \n",
    "        if (bola_blanca == 3) and (bola_roja == 2):\n",
    "            blanca_tres_rojo_dos += 1\n",
    "        \n",
    "        if (bola_blanca == 5) or (bola_roja == 5) or (bola_verde == 5):\n",
    "            colores_cinco += 1\n",
    "\n",
    "    primera_posibilidad = blanca_tres_rojo_dos / simulacion\n",
    "    segunda_posibilidad = colores_cinco / simulacion\n",
    "\n",
    "    return primera_posibilidad, segunda_posibilidad\n",
    "\n",
    "probabilidad = coge_bola(1000)\n",
    "\n",
    "f'La probabilidad de tres blancas y dos rojas es: {np.round(probabilidad[0] * 100, 2)}%'\n"
   ]
  },
  {
   "cell_type": "code",
   "execution_count": 50,
   "id": "3249e16b",
   "metadata": {},
   "outputs": [
    {
     "data": {
      "text/plain": [
       "'La probabilidad de que todos sean del mismo color es: 3.3%'"
      ]
     },
     "execution_count": 50,
     "metadata": {},
     "output_type": "execute_result"
    }
   ],
   "source": [
    "f'La probabilidad de que todos sean del mismo color es: {np.round(probabilidad[1] * 100, 2)}%'"
   ]
  },
  {
   "cell_type": "markdown",
   "id": "b2f5fbf1",
   "metadata": {},
   "source": [
    "Conclusión:\n",
    "Hay mayor probabilidad de sacar las bolas del mismo color que sacar tres blancas y dos rojas."
   ]
  }
 ],
 "metadata": {
  "kernelspec": {
   "display_name": "Python 3",
   "language": "python",
   "name": "python3"
  },
  "language_info": {
   "codemirror_mode": {
    "name": "ipython",
    "version": 3
   },
   "file_extension": ".py",
   "mimetype": "text/x-python",
   "name": "python",
   "nbconvert_exporter": "python",
   "pygments_lexer": "ipython3",
   "version": "3.11.4"
  }
 },
 "nbformat": 4,
 "nbformat_minor": 5
}
